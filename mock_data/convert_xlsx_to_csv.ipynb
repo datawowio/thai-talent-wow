{
 "cells": [
  {
   "cell_type": "code",
   "execution_count": 1,
   "metadata": {},
   "outputs": [],
   "source": [
    "import pandas as pd\n",
    "\n",
    "file_path = '/Users/warisaraporn.l/Downloads/MockTalentWow.xlsx'\n",
    "xls = pd.ExcelFile(file_path)\n",
    "sheet_names =  xls.sheet_names\n",
    "\n",
    "for sheet in sheet_names:\n",
    "    df = pd.read_excel(xls, sheet_name=sheet)\n",
    "    df.to_csv(f'{sheet}.csv', index=False, encoding='utf-8-sig')"
   ]
  },
  {
   "cell_type": "code",
   "execution_count": null,
   "metadata": {},
   "outputs": [],
   "source": []
  }
 ],
 "metadata": {
  "kernelspec": {
   "display_name": "talentwow",
   "language": "python",
   "name": "python3"
  },
  "language_info": {
   "codemirror_mode": {
    "name": "ipython",
    "version": 3
   },
   "file_extension": ".py",
   "mimetype": "text/x-python",
   "name": "python",
   "nbconvert_exporter": "python",
   "pygments_lexer": "ipython3",
   "version": "3.12.7"
  }
 },
 "nbformat": 4,
 "nbformat_minor": 2
}
